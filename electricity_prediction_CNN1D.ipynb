{
  "cells": [
    {
      "cell_type": "code",
      "execution_count": 26,
      "metadata": {
        "id": "gUJ-tcOLRXzB"
      },
      "outputs": [],
      "source": [
        "import tensorflow as tf\n",
        "import matplotlib.pyplot as plt\n",
        "from tensorflow import keras\n",
        "import numpy as np\n",
        "import pandas as pd\n",
        "%matplotlib inline"
      ]
    },
    {
      "attachments": {},
      "cell_type": "markdown",
      "metadata": {
        "id": "7_4GDgtNdKyS"
      },
      "source": [
        "# data eksploration"
      ]
    },
    {
      "cell_type": "code",
      "execution_count": 27,
      "metadata": {
        "colab": {
          "base_uri": "https://localhost:8080/",
          "height": 206
        },
        "id": "qBHhiI2lc6jX",
        "outputId": "8c39c9ec-20ec-4e23-99a6-d4eafc4a35bf"
      },
      "outputs": [
        {
          "data": {
            "text/html": [
              "<div>\n",
              "<style scoped>\n",
              "    .dataframe tbody tr th:only-of-type {\n",
              "        vertical-align: middle;\n",
              "    }\n",
              "\n",
              "    .dataframe tbody tr th {\n",
              "        vertical-align: top;\n",
              "    }\n",
              "\n",
              "    .dataframe thead th {\n",
              "        text-align: right;\n",
              "    }\n",
              "</style>\n",
              "<table border=\"1\" class=\"dataframe\">\n",
              "  <thead>\n",
              "    <tr style=\"text-align: right;\">\n",
              "      <th></th>\n",
              "      <th>datetime</th>\n",
              "      <th>temp</th>\n",
              "      <th>feelslike</th>\n",
              "      <th>conditions</th>\n",
              "      <th>libur</th>\n",
              "      <th>daya_listrik</th>\n",
              "    </tr>\n",
              "  </thead>\n",
              "  <tbody>\n",
              "    <tr>\n",
              "      <th>23</th>\n",
              "      <td>2023-01-24</td>\n",
              "      <td>24.9</td>\n",
              "      <td>25.2</td>\n",
              "      <td>Rain, Overcast</td>\n",
              "      <td>0</td>\n",
              "      <td>0.99874</td>\n",
              "    </tr>\n",
              "    <tr>\n",
              "      <th>131</th>\n",
              "      <td>2023-05-12</td>\n",
              "      <td>28.7</td>\n",
              "      <td>31.8</td>\n",
              "      <td>Rain, Partially cloudy</td>\n",
              "      <td>0</td>\n",
              "      <td>2.05731</td>\n",
              "    </tr>\n",
              "    <tr>\n",
              "      <th>71</th>\n",
              "      <td>2023-03-13</td>\n",
              "      <td>25.0</td>\n",
              "      <td>26.5</td>\n",
              "      <td>Rain, Partially cloudy</td>\n",
              "      <td>0</td>\n",
              "      <td>1.76109</td>\n",
              "    </tr>\n",
              "    <tr>\n",
              "      <th>2</th>\n",
              "      <td>2023-01-03</td>\n",
              "      <td>26.1</td>\n",
              "      <td>27.0</td>\n",
              "      <td>Rain, Partially cloudy</td>\n",
              "      <td>0</td>\n",
              "      <td>1.12345</td>\n",
              "    </tr>\n",
              "    <tr>\n",
              "      <th>15</th>\n",
              "      <td>2023-01-16</td>\n",
              "      <td>26.1</td>\n",
              "      <td>27.2</td>\n",
              "      <td>Rain, Partially cloudy</td>\n",
              "      <td>0</td>\n",
              "      <td>1.23158</td>\n",
              "    </tr>\n",
              "  </tbody>\n",
              "</table>\n",
              "</div>"
            ],
            "text/plain": [
              "       datetime  temp  feelslike              conditions  libur  daya_listrik\n",
              "23   2023-01-24  24.9       25.2          Rain, Overcast      0       0.99874\n",
              "131  2023-05-12  28.7       31.8  Rain, Partially cloudy      0       2.05731\n",
              "71   2023-03-13  25.0       26.5  Rain, Partially cloudy      0       1.76109\n",
              "2    2023-01-03  26.1       27.0  Rain, Partially cloudy      0       1.12345\n",
              "15   2023-01-16  26.1       27.2  Rain, Partially cloudy      0       1.23158"
            ]
          },
          "execution_count": 27,
          "metadata": {},
          "output_type": "execute_result"
        }
      ],
      "source": [
        "df = pd.read_csv('./datasetV1.csv')\n",
        "df.sample(5)"
      ]
    },
    {
      "cell_type": "code",
      "execution_count": 28,
      "metadata": {
        "colab": {
          "base_uri": "https://localhost:8080/"
        },
        "id": "coZGV3SgdOfv",
        "outputId": "3c42fc28-4320-40aa-fc27-f5a5d56820c1"
      },
      "outputs": [
        {
          "name": "stdout",
          "output_type": "stream",
          "text": [
            "<class 'pandas.core.frame.DataFrame'>\n",
            "RangeIndex: 152 entries, 0 to 151\n",
            "Data columns (total 6 columns):\n",
            " #   Column        Non-Null Count  Dtype  \n",
            "---  ------        --------------  -----  \n",
            " 0   datetime      152 non-null    object \n",
            " 1   temp          152 non-null    float64\n",
            " 2   feelslike     152 non-null    float64\n",
            " 3   conditions    152 non-null    object \n",
            " 4   libur         152 non-null    int64  \n",
            " 5   daya_listrik  152 non-null    float64\n",
            "dtypes: float64(3), int64(1), object(2)\n",
            "memory usage: 7.2+ KB\n"
          ]
        }
      ],
      "source": [
        "df.info()"
      ]
    },
    {
      "attachments": {},
      "cell_type": "markdown",
      "metadata": {
        "id": "OeD_3QUrd3Rd"
      },
      "source": [
        "# data cleaning"
      ]
    },
    {
      "cell_type": "code",
      "execution_count": 29,
      "metadata": {
        "colab": {
          "base_uri": "https://localhost:8080/"
        },
        "id": "O8bqrohPdXhT",
        "outputId": "2eaba1aa-a777-42a4-9047-2e7fbbc93151"
      },
      "outputs": [
        {
          "data": {
            "text/plain": [
              "temp            float64\n",
              "feelslike       float64\n",
              "conditions       object\n",
              "libur             int64\n",
              "daya_listrik    float64\n",
              "dtype: object"
            ]
          },
          "execution_count": 29,
          "metadata": {},
          "output_type": "execute_result"
        }
      ],
      "source": [
        "# Hapus kolom Tanggal\n",
        "df.drop('datetime',axis='columns',inplace=True)\n",
        "df.dtypes"
      ]
    },
    {
      "cell_type": "code",
      "execution_count": 30,
      "metadata": {
        "colab": {
          "base_uri": "https://localhost:8080/"
        },
        "id": "M55zcqLedqAI",
        "outputId": "6093930f-1af8-4aa9-f3bb-907d59afa676"
      },
      "outputs": [
        {
          "name": "stdout",
          "output_type": "stream",
          "text": [
            "temp : [25.9 26.1 26.5 25.5 25.8 24.9 26.2 26.  25.6 22.9 25.3 24.8 25.2 25.4\n",
            " 26.4 26.6 26.8 26.3 27.3 26.9 27.1 25.  26.7 27.2 27.  27.4 27.5 27.8\n",
            " 28.  28.4 28.2 28.3 28.1 27.9 27.6 28.7 27.7 28.8 28.5 28.9 29.3 29.\n",
            " 28.6]\n",
            "feelslike : [26.9 27.  27.3 27.5 26.1 26.7 26.6 26.2 25.3 27.2 27.6 25.5 22.9 26.4\n",
            " 25.2 25.8 27.8 27.4 28.2 27.9 28.1 28.3 27.7 28.7 28.  29.  28.5 28.6\n",
            " 26.5 28.8 29.3 29.2 29.4 28.9 29.1 29.7 29.5 29.9 30.1 30.7 30.6 32.1\n",
            " 31.7 31.9 28.4 31.1 31.2 30.9 31.4 30.5 30.2 31.3 31.  30.3 31.8 32.6\n",
            " 32.  32.7 30.8 30. ]\n",
            "conditions : ['Rain, Partially cloudy' 'Partially cloudy' 'Rain, Overcast' 'Clear'\n",
            " 'Overcast']\n",
            "libur : [1 0]\n",
            "daya_listrik : [1.76459 1.20568 1.12345 1.03574 0.89243 1.20146 0.95032 1.83052 1.05739\n",
            " 0.96812 0.82481 1.45233 1.30007 1.22993 1.90281 1.23158 0.89943 0.77626\n",
            " 1.26902 1.33169 1.08107 1.60835 1.49027 0.99874 1.13599 1.02345 1.02831\n",
            " 1.30172 1.76494 1.12768 1.63942 1.94327 1.89354 1.81592 1.76973 2.09412\n",
            " 1.80123 1.86179 1.92481 1.85247 1.72469 1.89523 2.14159 1.93248 1.84352\n",
            " 1.82109 1.86735 1.81764 2.05532 2.01295 1.86654 1.84829 2.04387 2.11035\n",
            " 1.85948 1.84132 1.97064 1.90875 1.83792 1.94689 1.98247 1.89456 1.94563\n",
            " 1.84291 1.76932 1.94123 1.87654 1.92847 1.85742 1.91375 2.09786 1.76109\n",
            " 1.90542 1.93871 1.87365 1.92874 1.98631 2.04287 1.92543 1.87649 2.01476\n",
            " 2.02035 1.92478 1.94367 1.98235 1.93127 2.01034 2.03465 1.99843 1.98354\n",
            " 1.95734 1.93123 1.85942 1.87056 1.81674 1.85493 1.93812 1.82467 2.06457\n",
            " 1.81648 1.83475 1.80164 1.89652 2.02789 1.81376 1.94635 2.09741 2.06852\n",
            " 2.07439 1.82253 2.00542 2.10973 2.09831 1.93025 1.94475 1.85924 1.98347\n",
            " 2.02345 1.98976 1.95673 1.87346 1.83257 2.04978 2.10573 2.08542 1.81935\n",
            " 1.90876 2.03475 2.0985  2.11357 2.05731 2.09236 2.08156 2.10743 2.10047\n",
            " 2.06354 2.03357 2.07943 2.09135 2.04732 2.01753 2.07751 2.03957 2.04932\n",
            " 1.98547 1.97865 2.03127 1.99143 1.98678 1.97589 2.02356]\n",
            "conditions : ['Rain, Partially cloudy' 'Partially cloudy' 'Rain, Overcast' 'Clear'\n",
            " 'Overcast']\n"
          ]
        }
      ],
      "source": [
        "def print_all_unique_col_values(df):\n",
        "  for column in df:\n",
        "      print(f\"{column} : {df[column].unique()}\")\n",
        "\n",
        "def print_object_unique_col_values(df):\n",
        "  for column in df:\n",
        "    if df[column].dtypes == 'object':\n",
        "      print(f\"{column} : {df[column].unique()}\")\n",
        "\n",
        "print_all_unique_col_values(df)\n",
        "print_object_unique_col_values(df)"
      ]
    },
    {
      "cell_type": "code",
      "execution_count": 31,
      "metadata": {
        "colab": {
          "base_uri": "https://localhost:8080/"
        },
        "id": "o6w3H2_qeHYK",
        "outputId": "8fa94df8-ce4a-4b86-cb42-fe967b295457"
      },
      "outputs": [
        {
          "data": {
            "text/plain": [
              "Index(['temp', 'feelslike', 'libur', 'daya_listrik', 'conditions_Clear',\n",
              "       'conditions_Overcast', 'conditions_Partially cloudy',\n",
              "       'conditions_Rain, Overcast', 'conditions_Rain, Partially cloudy'],\n",
              "      dtype='object')"
            ]
          },
          "execution_count": 31,
          "metadata": {},
          "output_type": "execute_result"
        }
      ],
      "source": [
        "df1 = pd.get_dummies(data=df, columns=['conditions'])\n",
        "df1.columns"
      ]
    },
    {
      "cell_type": "code",
      "execution_count": 32,
      "metadata": {
        "colab": {
          "base_uri": "https://localhost:8080/",
          "height": 206
        },
        "id": "COybqpx3eM3f",
        "outputId": "09f3b5f2-aa05-4e46-e7ef-b3165c8e7512"
      },
      "outputs": [
        {
          "data": {
            "text/html": [
              "<div>\n",
              "<style scoped>\n",
              "    .dataframe tbody tr th:only-of-type {\n",
              "        vertical-align: middle;\n",
              "    }\n",
              "\n",
              "    .dataframe tbody tr th {\n",
              "        vertical-align: top;\n",
              "    }\n",
              "\n",
              "    .dataframe thead th {\n",
              "        text-align: right;\n",
              "    }\n",
              "</style>\n",
              "<table border=\"1\" class=\"dataframe\">\n",
              "  <thead>\n",
              "    <tr style=\"text-align: right;\">\n",
              "      <th></th>\n",
              "      <th>temp</th>\n",
              "      <th>feelslike</th>\n",
              "      <th>libur</th>\n",
              "      <th>daya_listrik</th>\n",
              "      <th>conditions_Clear</th>\n",
              "      <th>conditions_Overcast</th>\n",
              "      <th>conditions_Partially cloudy</th>\n",
              "      <th>conditions_Rain, Overcast</th>\n",
              "      <th>conditions_Rain, Partially cloudy</th>\n",
              "    </tr>\n",
              "  </thead>\n",
              "  <tbody>\n",
              "    <tr>\n",
              "      <th>141</th>\n",
              "      <td>28.1</td>\n",
              "      <td>31.2</td>\n",
              "      <td>0</td>\n",
              "      <td>2.01753</td>\n",
              "      <td>0</td>\n",
              "      <td>0</td>\n",
              "      <td>0</td>\n",
              "      <td>0</td>\n",
              "      <td>1</td>\n",
              "    </tr>\n",
              "    <tr>\n",
              "      <th>127</th>\n",
              "      <td>26.8</td>\n",
              "      <td>27.8</td>\n",
              "      <td>0</td>\n",
              "      <td>1.90876</td>\n",
              "      <td>0</td>\n",
              "      <td>0</td>\n",
              "      <td>0</td>\n",
              "      <td>0</td>\n",
              "      <td>1</td>\n",
              "    </tr>\n",
              "    <tr>\n",
              "      <th>118</th>\n",
              "      <td>27.8</td>\n",
              "      <td>30.6</td>\n",
              "      <td>0</td>\n",
              "      <td>2.02345</td>\n",
              "      <td>0</td>\n",
              "      <td>0</td>\n",
              "      <td>0</td>\n",
              "      <td>0</td>\n",
              "      <td>1</td>\n",
              "    </tr>\n",
              "    <tr>\n",
              "      <th>1</th>\n",
              "      <td>25.9</td>\n",
              "      <td>27.0</td>\n",
              "      <td>0</td>\n",
              "      <td>1.20568</td>\n",
              "      <td>0</td>\n",
              "      <td>0</td>\n",
              "      <td>0</td>\n",
              "      <td>0</td>\n",
              "      <td>1</td>\n",
              "    </tr>\n",
              "    <tr>\n",
              "      <th>130</th>\n",
              "      <td>28.5</td>\n",
              "      <td>31.9</td>\n",
              "      <td>0</td>\n",
              "      <td>2.11357</td>\n",
              "      <td>0</td>\n",
              "      <td>0</td>\n",
              "      <td>0</td>\n",
              "      <td>0</td>\n",
              "      <td>1</td>\n",
              "    </tr>\n",
              "  </tbody>\n",
              "</table>\n",
              "</div>"
            ],
            "text/plain": [
              "     temp  feelslike  libur  daya_listrik  conditions_Clear  \\\n",
              "141  28.1       31.2      0       2.01753                 0   \n",
              "127  26.8       27.8      0       1.90876                 0   \n",
              "118  27.8       30.6      0       2.02345                 0   \n",
              "1    25.9       27.0      0       1.20568                 0   \n",
              "130  28.5       31.9      0       2.11357                 0   \n",
              "\n",
              "     conditions_Overcast  conditions_Partially cloudy  \\\n",
              "141                    0                            0   \n",
              "127                    0                            0   \n",
              "118                    0                            0   \n",
              "1                      0                            0   \n",
              "130                    0                            0   \n",
              "\n",
              "     conditions_Rain, Overcast  conditions_Rain, Partially cloudy  \n",
              "141                          0                                  1  \n",
              "127                          0                                  1  \n",
              "118                          0                                  1  \n",
              "1                            0                                  1  \n",
              "130                          0                                  1  "
            ]
          },
          "execution_count": 32,
          "metadata": {},
          "output_type": "execute_result"
        }
      ],
      "source": [
        "df1.sample(5)"
      ]
    },
    {
      "attachments": {},
      "cell_type": "markdown",
      "metadata": {
        "id": "CvCeLsRCeeB9"
      },
      "source": [
        "# modelling"
      ]
    },
    {
      "cell_type": "code",
      "execution_count": 33,
      "metadata": {
        "colab": {
          "base_uri": "https://localhost:8080/",
          "height": 423
        },
        "id": "lFU6jgW8egBA",
        "outputId": "6b985749-96da-4311-94e8-8185d07c3766"
      },
      "outputs": [
        {
          "data": {
            "text/html": [
              "<div>\n",
              "<style scoped>\n",
              "    .dataframe tbody tr th:only-of-type {\n",
              "        vertical-align: middle;\n",
              "    }\n",
              "\n",
              "    .dataframe tbody tr th {\n",
              "        vertical-align: top;\n",
              "    }\n",
              "\n",
              "    .dataframe thead th {\n",
              "        text-align: right;\n",
              "    }\n",
              "</style>\n",
              "<table border=\"1\" class=\"dataframe\">\n",
              "  <thead>\n",
              "    <tr style=\"text-align: right;\">\n",
              "      <th></th>\n",
              "      <th>temp</th>\n",
              "      <th>feelslike</th>\n",
              "      <th>libur</th>\n",
              "      <th>conditions_Clear</th>\n",
              "      <th>conditions_Overcast</th>\n",
              "      <th>conditions_Partially cloudy</th>\n",
              "      <th>conditions_Rain, Overcast</th>\n",
              "      <th>conditions_Rain, Partially cloudy</th>\n",
              "    </tr>\n",
              "  </thead>\n",
              "  <tbody>\n",
              "    <tr>\n",
              "      <th>0</th>\n",
              "      <td>25.9</td>\n",
              "      <td>26.9</td>\n",
              "      <td>1</td>\n",
              "      <td>0</td>\n",
              "      <td>0</td>\n",
              "      <td>0</td>\n",
              "      <td>0</td>\n",
              "      <td>1</td>\n",
              "    </tr>\n",
              "    <tr>\n",
              "      <th>1</th>\n",
              "      <td>25.9</td>\n",
              "      <td>27.0</td>\n",
              "      <td>0</td>\n",
              "      <td>0</td>\n",
              "      <td>0</td>\n",
              "      <td>0</td>\n",
              "      <td>0</td>\n",
              "      <td>1</td>\n",
              "    </tr>\n",
              "    <tr>\n",
              "      <th>2</th>\n",
              "      <td>26.1</td>\n",
              "      <td>27.0</td>\n",
              "      <td>0</td>\n",
              "      <td>0</td>\n",
              "      <td>0</td>\n",
              "      <td>0</td>\n",
              "      <td>0</td>\n",
              "      <td>1</td>\n",
              "    </tr>\n",
              "    <tr>\n",
              "      <th>3</th>\n",
              "      <td>25.9</td>\n",
              "      <td>27.3</td>\n",
              "      <td>0</td>\n",
              "      <td>0</td>\n",
              "      <td>0</td>\n",
              "      <td>0</td>\n",
              "      <td>0</td>\n",
              "      <td>1</td>\n",
              "    </tr>\n",
              "    <tr>\n",
              "      <th>4</th>\n",
              "      <td>26.1</td>\n",
              "      <td>27.5</td>\n",
              "      <td>0</td>\n",
              "      <td>0</td>\n",
              "      <td>0</td>\n",
              "      <td>1</td>\n",
              "      <td>0</td>\n",
              "      <td>0</td>\n",
              "    </tr>\n",
              "    <tr>\n",
              "      <th>...</th>\n",
              "      <td>...</td>\n",
              "      <td>...</td>\n",
              "      <td>...</td>\n",
              "      <td>...</td>\n",
              "      <td>...</td>\n",
              "      <td>...</td>\n",
              "      <td>...</td>\n",
              "      <td>...</td>\n",
              "    </tr>\n",
              "    <tr>\n",
              "      <th>147</th>\n",
              "      <td>28.3</td>\n",
              "      <td>31.3</td>\n",
              "      <td>1</td>\n",
              "      <td>0</td>\n",
              "      <td>0</td>\n",
              "      <td>0</td>\n",
              "      <td>0</td>\n",
              "      <td>1</td>\n",
              "    </tr>\n",
              "    <tr>\n",
              "      <th>148</th>\n",
              "      <td>28.1</td>\n",
              "      <td>30.8</td>\n",
              "      <td>0</td>\n",
              "      <td>0</td>\n",
              "      <td>0</td>\n",
              "      <td>0</td>\n",
              "      <td>1</td>\n",
              "      <td>0</td>\n",
              "    </tr>\n",
              "    <tr>\n",
              "      <th>149</th>\n",
              "      <td>28.0</td>\n",
              "      <td>30.6</td>\n",
              "      <td>0</td>\n",
              "      <td>0</td>\n",
              "      <td>1</td>\n",
              "      <td>0</td>\n",
              "      <td>0</td>\n",
              "      <td>0</td>\n",
              "    </tr>\n",
              "    <tr>\n",
              "      <th>150</th>\n",
              "      <td>27.7</td>\n",
              "      <td>30.1</td>\n",
              "      <td>0</td>\n",
              "      <td>0</td>\n",
              "      <td>0</td>\n",
              "      <td>0</td>\n",
              "      <td>1</td>\n",
              "      <td>0</td>\n",
              "    </tr>\n",
              "    <tr>\n",
              "      <th>151</th>\n",
              "      <td>27.7</td>\n",
              "      <td>30.0</td>\n",
              "      <td>1</td>\n",
              "      <td>0</td>\n",
              "      <td>1</td>\n",
              "      <td>0</td>\n",
              "      <td>0</td>\n",
              "      <td>0</td>\n",
              "    </tr>\n",
              "  </tbody>\n",
              "</table>\n",
              "<p>152 rows × 8 columns</p>\n",
              "</div>"
            ],
            "text/plain": [
              "     temp  feelslike  libur  conditions_Clear  conditions_Overcast  \\\n",
              "0    25.9       26.9      1                 0                    0   \n",
              "1    25.9       27.0      0                 0                    0   \n",
              "2    26.1       27.0      0                 0                    0   \n",
              "3    25.9       27.3      0                 0                    0   \n",
              "4    26.1       27.5      0                 0                    0   \n",
              "..    ...        ...    ...               ...                  ...   \n",
              "147  28.3       31.3      1                 0                    0   \n",
              "148  28.1       30.8      0                 0                    0   \n",
              "149  28.0       30.6      0                 0                    1   \n",
              "150  27.7       30.1      0                 0                    0   \n",
              "151  27.7       30.0      1                 0                    1   \n",
              "\n",
              "     conditions_Partially cloudy  conditions_Rain, Overcast  \\\n",
              "0                              0                          0   \n",
              "1                              0                          0   \n",
              "2                              0                          0   \n",
              "3                              0                          0   \n",
              "4                              1                          0   \n",
              "..                           ...                        ...   \n",
              "147                            0                          0   \n",
              "148                            0                          1   \n",
              "149                            0                          0   \n",
              "150                            0                          1   \n",
              "151                            0                          0   \n",
              "\n",
              "     conditions_Rain, Partially cloudy  \n",
              "0                                    1  \n",
              "1                                    1  \n",
              "2                                    1  \n",
              "3                                    1  \n",
              "4                                    0  \n",
              "..                                 ...  \n",
              "147                                  1  \n",
              "148                                  0  \n",
              "149                                  0  \n",
              "150                                  0  \n",
              "151                                  0  \n",
              "\n",
              "[152 rows x 8 columns]"
            ]
          },
          "execution_count": 33,
          "metadata": {},
          "output_type": "execute_result"
        }
      ],
      "source": [
        "X = df1.drop('daya_listrik', axis='columns')\n",
        "X"
      ]
    },
    {
      "cell_type": "code",
      "execution_count": 34,
      "metadata": {
        "colab": {
          "base_uri": "https://localhost:8080/"
        },
        "id": "X3JNHTuIL25m",
        "outputId": "051c8d10-13cd-427c-c2f1-d1c105b4a7b6"
      },
      "outputs": [
        {
          "name": "stdout",
          "output_type": "stream",
          "text": [
            "<class 'pandas.core.frame.DataFrame'>\n",
            "RangeIndex: 152 entries, 0 to 151\n",
            "Data columns (total 8 columns):\n",
            " #   Column                             Non-Null Count  Dtype  \n",
            "---  ------                             --------------  -----  \n",
            " 0   temp                               152 non-null    float64\n",
            " 1   feelslike                          152 non-null    float64\n",
            " 2   libur                              152 non-null    int64  \n",
            " 3   conditions_Clear                   152 non-null    uint8  \n",
            " 4   conditions_Overcast                152 non-null    uint8  \n",
            " 5   conditions_Partially cloudy        152 non-null    uint8  \n",
            " 6   conditions_Rain, Overcast          152 non-null    uint8  \n",
            " 7   conditions_Rain, Partially cloudy  152 non-null    uint8  \n",
            "dtypes: float64(2), int64(1), uint8(5)\n",
            "memory usage: 4.4 KB\n"
          ]
        }
      ],
      "source": [
        "X.info()"
      ]
    },
    {
      "cell_type": "code",
      "execution_count": 35,
      "metadata": {
        "colab": {
          "base_uri": "https://localhost:8080/"
        },
        "id": "tIqjeRx2epj8",
        "outputId": "bfcca86d-f588-4dfb-a925-52e2aee8131e"
      },
      "outputs": [
        {
          "data": {
            "text/plain": [
              "0      1.76459\n",
              "1      1.20568\n",
              "2      1.12345\n",
              "3      1.03574\n",
              "4      0.89243\n",
              "        ...   \n",
              "147    2.03127\n",
              "148    1.99143\n",
              "149    1.98678\n",
              "150    1.97589\n",
              "151    2.02356\n",
              "Name: daya_listrik, Length: 152, dtype: float64"
            ]
          },
          "execution_count": 35,
          "metadata": {},
          "output_type": "execute_result"
        }
      ],
      "source": [
        "y = df1['daya_listrik']\n",
        "y"
      ]
    },
    {
      "cell_type": "code",
      "execution_count": 36,
      "metadata": {
        "colab": {
          "base_uri": "https://localhost:8080/"
        },
        "id": "LBfQ2qy7etsC",
        "outputId": "348860cc-663d-4ad2-eb5c-601a247539cd"
      },
      "outputs": [
        {
          "data": {
            "text/plain": [
              "((121, 8), (31, 8))"
            ]
          },
          "execution_count": 36,
          "metadata": {},
          "output_type": "execute_result"
        }
      ],
      "source": [
        "from sklearn.model_selection import train_test_split      #20% dari data\n",
        "X_train, X_test, y_train, y_test = train_test_split(X, y, test_size=0.2, random_state=5)\n",
        "\n",
        "X_train.shape, X_test.shape"
      ]
    },
    {
      "cell_type": "code",
      "execution_count": 37,
      "metadata": {
        "colab": {
          "base_uri": "https://localhost:8080/"
        },
        "id": "gu0py36GeuaG",
        "outputId": "9cd7525e-e20a-4acc-9bd4-65f4cef9a19d"
      },
      "outputs": [
        {
          "name": "stdout",
          "output_type": "stream",
          "text": [
            "Epoch 1/50\n"
          ]
        },
        {
          "name": "stdout",
          "output_type": "stream",
          "text": [
            "4/4 [==============================] - 2s 5ms/step - loss: 0.1546\n",
            "Epoch 2/50\n",
            "4/4 [==============================] - 0s 10ms/step - loss: 0.1121\n",
            "Epoch 3/50\n",
            "4/4 [==============================] - 0s 10ms/step - loss: 0.0924\n",
            "Epoch 4/50\n",
            "4/4 [==============================] - 0s 7ms/step - loss: 0.0823\n",
            "Epoch 5/50\n",
            "4/4 [==============================] - 0s 7ms/step - loss: 0.0685\n",
            "Epoch 6/50\n",
            "4/4 [==============================] - 0s 8ms/step - loss: 0.0673\n",
            "Epoch 7/50\n",
            "4/4 [==============================] - 0s 10ms/step - loss: 0.0690\n",
            "Epoch 8/50\n",
            "4/4 [==============================] - 0s 6ms/step - loss: 0.0612\n",
            "Epoch 9/50\n",
            "4/4 [==============================] - 0s 10ms/step - loss: 0.0616\n",
            "Epoch 10/50\n",
            "4/4 [==============================] - 0s 9ms/step - loss: 0.0601\n",
            "Epoch 11/50\n",
            "4/4 [==============================] - 0s 8ms/step - loss: 0.0588\n",
            "Epoch 12/50\n",
            "4/4 [==============================] - 0s 10ms/step - loss: 0.0580\n",
            "Epoch 13/50\n",
            "4/4 [==============================] - 0s 11ms/step - loss: 0.0594\n",
            "Epoch 14/50\n",
            "4/4 [==============================] - 0s 10ms/step - loss: 0.0608\n",
            "Epoch 15/50\n",
            "4/4 [==============================] - 0s 7ms/step - loss: 0.0658\n",
            "Epoch 16/50\n",
            "4/4 [==============================] - 0s 9ms/step - loss: 0.0631\n",
            "Epoch 17/50\n",
            "4/4 [==============================] - 0s 10ms/step - loss: 0.0607\n",
            "Epoch 18/50\n",
            "4/4 [==============================] - 0s 6ms/step - loss: 0.0597\n",
            "Epoch 19/50\n",
            "4/4 [==============================] - 0s 8ms/step - loss: 0.0574\n",
            "Epoch 20/50\n",
            "4/4 [==============================] - 0s 5ms/step - loss: 0.0591\n",
            "Epoch 21/50\n",
            "4/4 [==============================] - 0s 8ms/step - loss: 0.0566\n",
            "Epoch 22/50\n",
            "4/4 [==============================] - 0s 4ms/step - loss: 0.0602\n",
            "Epoch 23/50\n",
            "4/4 [==============================] - 0s 5ms/step - loss: 0.0627\n",
            "Epoch 24/50\n",
            "4/4 [==============================] - 0s 7ms/step - loss: 0.0709\n",
            "Epoch 25/50\n",
            "4/4 [==============================] - 0s 6ms/step - loss: 0.0672\n",
            "Epoch 26/50\n",
            "4/4 [==============================] - 0s 6ms/step - loss: 0.0603\n",
            "Epoch 27/50\n",
            "4/4 [==============================] - 0s 5ms/step - loss: 0.0597\n",
            "Epoch 28/50\n",
            "4/4 [==============================] - 0s 5ms/step - loss: 0.0594\n",
            "Epoch 29/50\n",
            "4/4 [==============================] - 0s 5ms/step - loss: 0.0577\n",
            "Epoch 30/50\n",
            "4/4 [==============================] - 0s 6ms/step - loss: 0.0565\n",
            "Epoch 31/50\n",
            "4/4 [==============================] - 0s 5ms/step - loss: 0.0581\n",
            "Epoch 32/50\n",
            "4/4 [==============================] - 0s 6ms/step - loss: 0.0560\n",
            "Epoch 33/50\n",
            "4/4 [==============================] - 0s 6ms/step - loss: 0.0585\n",
            "Epoch 34/50\n",
            "4/4 [==============================] - 0s 6ms/step - loss: 0.0609\n",
            "Epoch 35/50\n",
            "4/4 [==============================] - 0s 5ms/step - loss: 0.0625\n",
            "Epoch 36/50\n",
            "4/4 [==============================] - 0s 5ms/step - loss: 0.0562\n",
            "Epoch 37/50\n",
            "4/4 [==============================] - 0s 6ms/step - loss: 0.0579\n",
            "Epoch 38/50\n",
            "4/4 [==============================] - 0s 4ms/step - loss: 0.0552\n",
            "Epoch 39/50\n",
            "4/4 [==============================] - 0s 7ms/step - loss: 0.0571\n",
            "Epoch 40/50\n",
            "4/4 [==============================] - 0s 5ms/step - loss: 0.0579\n",
            "Epoch 41/50\n",
            "4/4 [==============================] - 0s 7ms/step - loss: 0.0591\n",
            "Epoch 42/50\n",
            "4/4 [==============================] - 0s 38ms/step - loss: 0.0571\n",
            "Epoch 43/50\n",
            "4/4 [==============================] - 0s 6ms/step - loss: 0.0559\n",
            "Epoch 44/50\n",
            "4/4 [==============================] - 0s 9ms/step - loss: 0.0638\n",
            "Epoch 45/50\n",
            "4/4 [==============================] - 0s 7ms/step - loss: 0.0616\n",
            "Epoch 46/50\n",
            "4/4 [==============================] - 0s 5ms/step - loss: 0.0651\n",
            "Epoch 47/50\n",
            "4/4 [==============================] - 0s 9ms/step - loss: 0.0642\n",
            "Epoch 48/50\n",
            "4/4 [==============================] - 0s 6ms/step - loss: 0.0569\n",
            "Epoch 49/50\n",
            "4/4 [==============================] - 0s 4ms/step - loss: 0.0599\n",
            "Epoch 50/50\n",
            "4/4 [==============================] - 0s 4ms/step - loss: 0.0560\n"
          ]
        }
      ],
      "source": [
        "import numpy as np\n",
        "from keras.models import Sequential\n",
        "from keras.layers import Conv1D, MaxPooling1D, Flatten, Dense, BatchNormalization\n",
        "\n",
        "# Inisialisasi model\n",
        "model = Sequential()\n",
        "\n",
        "# Tambahkan lapisan konvolusi 1D\n",
        "model.add(Conv1D(64, 3, activation='relu', input_shape=(X_train.shape[1], 1)))\n",
        "\n",
        "# Tambahkan lapisan pooling\n",
        "model.add(MaxPooling1D(2))\n",
        "\n",
        "# Tambahkan lapisan flatten\n",
        "model.add(Flatten())\n",
        "\n",
        "# Tambahkan lapisan tersembunyi (hidden layer) dengan fungsi aktivasi ReLU\n",
        "model.add(Dense(64, activation='relu'))\n",
        "\n",
        "# Tambahkan lapisan output tanpa fungsi aktivasi khusus untuk regresi\n",
        "model.add(Dense(1))\n",
        "\n",
        "# Kompilasi model dengan MSE sebagai loss function dan Adam sebagai optimizer\n",
        "model.compile(loss='mean_squared_error', optimizer='adam')\n",
        "\n",
        "# Melatih model dengan data Anda\n",
        "history = model.fit(X_train, y_train, epochs=50) # Ubah jumlah epochs dan batch size sesuai kebutuhan Anda\n"
      ]
    },
    {
      "attachments": {},
      "cell_type": "markdown",
      "metadata": {
        "id": "lnG_YszNg3vJ"
      },
      "source": [
        "###evaluate MAE"
      ]
    },
    {
      "cell_type": "code",
      "execution_count": 38,
      "metadata": {
        "id": "Om2TJFY_gWwH"
      },
      "outputs": [
        {
          "name": "stdout",
          "output_type": "stream",
          "text": [
            "1/1 [==============================] - 0s 382ms/step - loss: 0.0796\n"
          ]
        },
        {
          "data": {
            "text/plain": [
              "0.07960797846317291"
            ]
          },
          "execution_count": 38,
          "metadata": {},
          "output_type": "execute_result"
        }
      ],
      "source": [
        "model.evaluate(X_test, y_test)"
      ]
    },
    {
      "cell_type": "code",
      "execution_count": 39,
      "metadata": {
        "id": "XupyDq4Oh6SZ"
      },
      "outputs": [
        {
          "name": "stdout",
          "output_type": "stream",
          "text": [
            "1/1 [==============================] - 0s 205ms/step\n"
          ]
        },
        {
          "data": {
            "text/plain": [
              "array([[1.7062787],\n",
              "       [1.9676756],\n",
              "       [1.9690319],\n",
              "       [1.820841 ],\n",
              "       [1.9585044],\n",
              "       [1.6931826],\n",
              "       [1.6279703],\n",
              "       [1.8490021],\n",
              "       [1.5365657],\n",
              "       [1.8867986]], dtype=float32)"
            ]
          },
          "execution_count": 39,
          "metadata": {},
          "output_type": "execute_result"
        }
      ],
      "source": [
        "yp = model.predict(X_test)\n",
        "yp[:10]"
      ]
    },
    {
      "attachments": {},
      "cell_type": "markdown",
      "metadata": {
        "id": "RY6JReMwg8Te"
      },
      "source": [
        "### Evaluate  coefficient of determination (R-squared)"
      ]
    },
    {
      "cell_type": "code",
      "execution_count": 40,
      "metadata": {
        "id": "tjauvDpBg8Bz"
      },
      "outputs": [
        {
          "name": "stdout",
          "output_type": "stream",
          "text": [
            "4/4 [==============================] - 0s 3ms/step\n",
            "121\n",
            "121\n"
          ]
        }
      ],
      "source": [
        "y_pred = model.predict(X_train)\n",
        "y_true = y_train\n",
        "print(len(y_true))\n",
        "print(len(y_pred))"
      ]
    },
    {
      "cell_type": "code",
      "execution_count": 41,
      "metadata": {
        "id": "-Sp8wP4RhvRh"
      },
      "outputs": [
        {
          "name": "stdout",
          "output_type": "stream",
          "text": [
            "R-squared: 0.46233775515974074\n"
          ]
        }
      ],
      "source": [
        "from sklearn.metrics import r2_score\n",
        "# Menghitung R-squared\n",
        "r2 = r2_score(y_true, y_pred)\n",
        "\n",
        "print(\"R-squared:\", r2)"
      ]
    },
    {
      "cell_type": "code",
      "execution_count": 42,
      "metadata": {
        "id": "xb-aJEQBE9WP"
      },
      "outputs": [
        {
          "data": {
            "image/png": "[encoded data removed]",
            "text/plain": [
              "<Figure size 640x480 with 1 Axes>"
            ]
          },
          "metadata": {},
          "output_type": "display_data"
        }
      ],
      "source": [
        "plt.plot(history.history['loss'])\n",
        "plt.title('Model Loss')\n",
        "plt.xlabel('Epochs')\n",
        "plt.ylabel('Loss')\n",
        "plt.show()"
      ]
    },
    {
      "cell_type": "code",
      "execution_count": 43,
      "metadata": {
        "id": "oSpVsU1VGJHC"
      },
      "outputs": [
        {
          "name": "stdout",
          "output_type": "stream",
          "text": [
            "Model: \"sequential_2\"\n",
            "_________________________________________________________________\n",
            " Layer (type)                Output Shape              Param #   \n",
            "=================================================================\n",
            " conv1d_1 (Conv1D)           (None, 6, 64)             256       \n",
            "                                                                 \n",
            " max_pooling1d_1 (MaxPooling  (None, 3, 64)            0         \n",
            " 1D)                                                             \n",
            "                                                                 \n",
            " flatten_1 (Flatten)         (None, 192)               0         \n",
            "                                                                 \n",
            " dense_5 (Dense)             (None, 64)                12352     \n",
            "                                                                 \n",
            " dense_6 (Dense)             (None, 1)                 65        \n",
            "                                                                 \n",
            "=================================================================\n",
            "Total params: 12,673\n",
            "Trainable params: 12,673\n",
            "Non-trainable params: 0\n",
            "_________________________________________________________________\n"
          ]
        }
      ],
      "source": [
        "model.summary()"
      ]
    },
    {
      "cell_type": "code",
      "execution_count": 44,
      "metadata": {
        "id": "lo8IvgGUFyU6"
      },
      "outputs": [],
      "source": [
        "model.save('modelv1.h5')"
      ]
    }
  ],
  "metadata": {
    "colab": {
      "provenance": []
    },
    "kernelspec": {
      "display_name": "Python 3",
      "name": "python3"
    },
    "language_info": {
      "codemirror_mode": {
        "name": "ipython",
        "version": 3
      },
      "file_extension": ".py",
      "mimetype": "text/x-python",
      "name": "python",
      "nbconvert_exporter": "python",
      "pygments_lexer": "ipython3",
      "version": "3.10.5"
    }
  },
  "nbformat": 4,
  "nbformat_minor": 0
}
